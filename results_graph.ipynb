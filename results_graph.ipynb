{
  "nbformat": 4,
  "nbformat_minor": 0,
  "metadata": {
    "colab": {
      "name": "results graph.ipynb",
      "provenance": [],
      "collapsed_sections": [],
      "include_colab_link": true
    },
    "kernelspec": {
      "name": "python3",
      "display_name": "Python 3"
    }
  },
  "cells": [
    {
      "cell_type": "markdown",
      "metadata": {
        "id": "view-in-github",
        "colab_type": "text"
      },
      "source": [
        "<a href=\"https://colab.research.google.com/github/embryonics/algo/blob/shahar/results_graph.ipynb\" target=\"_parent\"><img src=\"https://colab.research.google.com/assets/colab-badge.svg\" alt=\"Open In Colab\"/></a>"
      ]
    },
    {
      "cell_type": "code",
      "metadata": {
        "id": "y7FMGtgzz247",
        "colab_type": "code",
        "colab": {}
      },
      "source": [
        "import pandas as pd\n",
        "import numpy as np\n",
        "import seaborn as sns\n",
        "import matplotlib.pyplot as plt\n",
        "\n",
        "sns.set(rc={'figure.figsize':(11.7,8.27)})\n",
        "sns.set_style(\"whitegrid\",\n",
        "              {\"axes.facecolor\": \".9\"\n",
        "              })"
      ],
      "execution_count": 0,
      "outputs": []
    },
    {
      "cell_type": "code",
      "metadata": {
        "id": "kgzEVbxuz3kb",
        "colab_type": "code",
        "colab": {}
      },
      "source": [
        "path ='/content/df_2019-10-01_v3.csv'\n",
        "#path = '/content/Data_Ukraine_Nadiya_Dataframes_Ukraine_Full_df_2019-10-01 (2) (1).csv'\n",
        "#path = '/content/model_2019-07-17_results.csv'"
      ],
      "execution_count": 0,
      "outputs": []
    },
    {
      "cell_type": "code",
      "metadata": {
        "id": "q-rvg8NSz3m5",
        "colab_type": "code",
        "colab": {}
      },
      "source": [
        "df = pd.read_csv(path)"
      ],
      "execution_count": 0,
      "outputs": []
    },
    {
      "cell_type": "code",
      "metadata": {
        "id": "TKtw4eYl8AoL",
        "colab_type": "code",
        "colab": {}
      },
      "source": [
        "PREDICTIONS = ['prediction']\n",
        "#PREDICTIONS = ['prediction_old', 'prediction_new']\n",
        "PANELISTS = ['g_natali', 'g_olga']\n",
        "IMPLANT = ['implant']\n",
        "OTHER = [ 'uniq', 'name', 'well', 'ferti_date', 'birth_date']"
      ],
      "execution_count": 0,
      "outputs": []
    },
    {
      "cell_type": "markdown",
      "metadata": {
        "id": "7o_CzMXo0V5C",
        "colab_type": "text"
      },
      "source": [
        "**filter the df**"
      ]
    },
    {
      "cell_type": "code",
      "metadata": {
        "id": "CdznlW6zz3sJ",
        "colab_type": "code",
        "colab": {}
      },
      "source": [
        "df = df[df.columns[df.columns.isin(PREDICTIONS + PANELISTS + IMPLANT + OTHER)]]"
      ],
      "execution_count": 0,
      "outputs": []
    },
    {
      "cell_type": "code",
      "metadata": {
        "id": "CUDe8BZpnigc",
        "colab_type": "code",
        "outputId": "0aac507e-025f-4c7e-b093-e17762d26546",
        "colab": {
          "base_uri": "https://localhost:8080/",
          "height": 204
        }
      },
      "source": [
        "df.head()"
      ],
      "execution_count": 474,
      "outputs": [
        {
          "output_type": "execute_result",
          "data": {
            "text/html": [
              "<div>\n",
              "<style scoped>\n",
              "    .dataframe tbody tr th:only-of-type {\n",
              "        vertical-align: middle;\n",
              "    }\n",
              "\n",
              "    .dataframe tbody tr th {\n",
              "        vertical-align: top;\n",
              "    }\n",
              "\n",
              "    .dataframe thead th {\n",
              "        text-align: right;\n",
              "    }\n",
              "</style>\n",
              "<table border=\"1\" class=\"dataframe\">\n",
              "  <thead>\n",
              "    <tr style=\"text-align: right;\">\n",
              "      <th></th>\n",
              "      <th>uniq</th>\n",
              "      <th>name</th>\n",
              "      <th>well</th>\n",
              "      <th>ferti_date</th>\n",
              "      <th>birth_date</th>\n",
              "      <th>prediction</th>\n",
              "      <th>implant</th>\n",
              "      <th>g_natali</th>\n",
              "      <th>g_olga</th>\n",
              "    </tr>\n",
              "  </thead>\n",
              "  <tbody>\n",
              "    <tr>\n",
              "      <th>0</th>\n",
              "      <td>S0025_W1</td>\n",
              "      <td>S0025</td>\n",
              "      <td>1</td>\n",
              "      <td>3/22/2012</td>\n",
              "      <td>1/1/1974</td>\n",
              "      <td>NaN</td>\n",
              "      <td>NaN</td>\n",
              "      <td>3.0</td>\n",
              "      <td>NaN</td>\n",
              "    </tr>\n",
              "    <tr>\n",
              "      <th>1</th>\n",
              "      <td>S0025_W10</td>\n",
              "      <td>S0025</td>\n",
              "      <td>10</td>\n",
              "      <td>3/22/2012</td>\n",
              "      <td>1/1/1974</td>\n",
              "      <td>NaN</td>\n",
              "      <td>NaN</td>\n",
              "      <td>5.0</td>\n",
              "      <td>NaN</td>\n",
              "    </tr>\n",
              "    <tr>\n",
              "      <th>2</th>\n",
              "      <td>S0025_W2</td>\n",
              "      <td>S0025</td>\n",
              "      <td>2</td>\n",
              "      <td>3/22/2012</td>\n",
              "      <td>1/1/1974</td>\n",
              "      <td>NaN</td>\n",
              "      <td>NaN</td>\n",
              "      <td>3.0</td>\n",
              "      <td>NaN</td>\n",
              "    </tr>\n",
              "    <tr>\n",
              "      <th>3</th>\n",
              "      <td>S0025_W3</td>\n",
              "      <td>S0025</td>\n",
              "      <td>3</td>\n",
              "      <td>3/22/2012</td>\n",
              "      <td>1/1/1974</td>\n",
              "      <td>NaN</td>\n",
              "      <td>NaN</td>\n",
              "      <td>1.0</td>\n",
              "      <td>NaN</td>\n",
              "    </tr>\n",
              "    <tr>\n",
              "      <th>4</th>\n",
              "      <td>S0025_W4</td>\n",
              "      <td>S0025</td>\n",
              "      <td>4</td>\n",
              "      <td>3/22/2012</td>\n",
              "      <td>1/1/1974</td>\n",
              "      <td>NaN</td>\n",
              "      <td>NaN</td>\n",
              "      <td>4.0</td>\n",
              "      <td>NaN</td>\n",
              "    </tr>\n",
              "  </tbody>\n",
              "</table>\n",
              "</div>"
            ],
            "text/plain": [
              "        uniq   name  well ferti_date  ... prediction  implant  g_natali  g_olga\n",
              "0   S0025_W1  S0025     1  3/22/2012  ...        NaN      NaN       3.0     NaN\n",
              "1  S0025_W10  S0025    10  3/22/2012  ...        NaN      NaN       5.0     NaN\n",
              "2   S0025_W2  S0025     2  3/22/2012  ...        NaN      NaN       3.0     NaN\n",
              "3   S0025_W3  S0025     3  3/22/2012  ...        NaN      NaN       1.0     NaN\n",
              "4   S0025_W4  S0025     4  3/22/2012  ...        NaN      NaN       4.0     NaN\n",
              "\n",
              "[5 rows x 9 columns]"
            ]
          },
          "metadata": {
            "tags": []
          },
          "execution_count": 474
        }
      ]
    },
    {
      "cell_type": "markdown",
      "metadata": {
        "id": "pnuuPO_t3Ddi",
        "colab_type": "text"
      },
      "source": [
        "functions"
      ]
    },
    {
      "cell_type": "code",
      "metadata": {
        "id": "wRQh8_RspQbS",
        "colab_type": "code",
        "colab": {}
      },
      "source": [
        "def threshold_prediction(df, predictions):\n",
        "  for prediction in predictions:\n",
        "    df[prediction] = df[prediction].apply(lambda x: 1 if x >=0.5 else 0)\n",
        "  return df"
      ],
      "execution_count": 0,
      "outputs": []
    },
    {
      "cell_type": "code",
      "metadata": {
        "id": "1M24lyNYp0OA",
        "colab_type": "code",
        "colab": {}
      },
      "source": [
        "def generate_panel(df,panelists):\n",
        "  df['panel'] = df[panelists].mean(axis=1)\n",
        "  df = df.drop(panelists, axis=1)\n",
        "  df.dropna(axis=0, inplace=True)\n",
        "  df['panel'] = df['panel'].apply(lambda x: 1 if x >= 4 else 0)\n",
        "  return df"
      ],
      "execution_count": 0,
      "outputs": []
    },
    {
      "cell_type": "code",
      "metadata": {
        "id": "WCvVCYOzqwMh",
        "colab_type": "code",
        "colab": {}
      },
      "source": [
        "def compute_age(df, birth_date, ferti_date):\n",
        "  df[birth_date] = pd.to_datetime(df[birth_date])\n",
        "  df[ferti_date] = pd.to_datetime(df[ferti_date])\n",
        "  df['age'] = (df[ferti_date] - df[birth_date]).dt.days/365\n",
        "  df.drop([ferti_date, birth_date], axis=1, inplace=True)\n",
        "  return df"
      ],
      "execution_count": 0,
      "outputs": []
    },
    {
      "cell_type": "code",
      "metadata": {
        "id": "kgLfcJcjE7ZF",
        "colab_type": "code",
        "colab": {}
      },
      "source": [
        "def compute_metrics(df, predictions):\n",
        "\n",
        "  results_dict = {}\n",
        "\n",
        "  # Clinic\n",
        "  tp_c = df['implant'].sum()\n",
        "  positives_c = df['implant'].count() # all the implanted were selected\n",
        "  ppv_c = tp_c / float(positives_c)\n",
        "\n",
        "  # Panel\n",
        "  tp_p = df[(df['panel'] == 1) & (df['implant'] == 1)]['panel'].count()\n",
        "  tn_p = df[(df['panel'] == 0) & (df['implant'] == 0)]['panel'].count()\n",
        "  positives_p = df[(df['panel'] == 1)]['panel'].count()\n",
        "  negatives_p = df[(df['panel'] == 0)]['panel'].count()\n",
        "  ppv_p = tp_p / float(positives_p)\n",
        "  npv_p = tn_p / float(negatives_p)\n",
        "\n",
        "  # UBar \n",
        "  def ubar_metrics(df, predictions):\n",
        "\n",
        "    p_dict = {}\n",
        "    \n",
        "    for p in predictions:\n",
        "      tp_u = df[(df[p] == 1) & (df['implant'] == 1)][p].count()\n",
        "      tn_u = df[(df[p] == 0) & (df['implant'] == 0)][p].count()\n",
        "      positives_u = df[(df[p] == 1)][p].count()\n",
        "      negatives_u = df[(df[p] == 0)][p].count()\n",
        "      ppv_u = tp_u / float(positives_u)\n",
        "      npv_u = tn_u / float(negatives_u)\n",
        "\n",
        "      p_dict.update({'PPV '+ p : ppv_u, 'NPV ' + p : npv_u})\n",
        "    return p_dict, p_dict.keys()\n",
        "\n",
        "  p_dict, predict_names = ubar_metrics(df, predictions)\n",
        "\n",
        "  results_dict.update({'PPV clinic' : ppv_c,\n",
        "                       'PPV panel' : ppv_p,\n",
        "                       'NPV panel' : npv_p\n",
        "                       })\n",
        "    \n",
        "  results_dict.update(p_dict)\n",
        "  return {'results_dict': results_dict, 'predict_names': predict_names}\n",
        "\n",
        "          \n"
      ],
      "execution_count": 0,
      "outputs": []
    },
    {
      "cell_type": "code",
      "metadata": {
        "id": "Jot4icOtFK8G",
        "colab_type": "code",
        "colab": {}
      },
      "source": [
        "def data_by_age(df , predictions, verbose = False, cut_low_high_ages = True):\n",
        "\n",
        "  AGE_WINDOW = 3\n",
        "  AGE_LOW_CUT = 25\n",
        "  AGE_HIGH_CUT = 50\n",
        "\n",
        "  results = pd.DataFrame()\n",
        "\n",
        "  if cut_low_high_ages:\n",
        "    ages = range(max(int(df['age'].min()), AGE_LOW_CUT), min(int(df['age'].max()), AGE_HIGH_CUT))\n",
        "  else:\n",
        "     ages = range(int(df['age'].min()), int(df['age'].max()))\n",
        "\n",
        "  for age in ages:\n",
        "    age_low = age - AGE_WINDOW\n",
        "    age_high = age + AGE_WINDOW\n",
        "\n",
        "    df_itr = df[(df['age'] >= age_low) & (df['age']<= age_high)]\n",
        "    m_dict = compute_metrics(df_itr, predictions)\n",
        "    m = m_dict['results_dict']\n",
        "    predict_names = m_dict['predict_names']\n",
        "    m['n'] = df_itr['age'].count() # sample count\n",
        "    m['age_group'] = '{} - {}'.format(age_low, age_high)\n",
        "\n",
        "\n",
        "    if verbose:\n",
        "      print('age: ', age_low, '-', age_high, ', samples: ', n , m)\n",
        "\n",
        "    results = pd.concat([results, pd.DataFrame(m, index = range(1))], axis = 0)\n",
        "    \n",
        "  return results, predict_names"
      ],
      "execution_count": 0,
      "outputs": []
    },
    {
      "cell_type": "markdown",
      "metadata": {
        "id": "Av8L4D9T3Q2H",
        "colab_type": "text"
      },
      "source": [
        "MAIN"
      ]
    },
    {
      "cell_type": "code",
      "metadata": {
        "id": "zdbLDdj6yKbK",
        "colab_type": "code",
        "colab": {}
      },
      "source": [
        "df = threshold_prediction(df, PREDICTIONS)"
      ],
      "execution_count": 0,
      "outputs": []
    },
    {
      "cell_type": "code",
      "metadata": {
        "id": "npsNnBAlzJZo",
        "colab_type": "code",
        "colab": {}
      },
      "source": [
        "df = generate_panel(df, PANELISTS)"
      ],
      "execution_count": 0,
      "outputs": []
    },
    {
      "cell_type": "code",
      "metadata": {
        "id": "Zk6S5xNCznRq",
        "colab_type": "code",
        "colab": {}
      },
      "source": [
        "df = compute_age(df, 'birth_date', 'ferti_date')"
      ],
      "execution_count": 0,
      "outputs": []
    },
    {
      "cell_type": "code",
      "metadata": {
        "id": "B21OEV_61Yeq",
        "colab_type": "code",
        "colab": {
          "base_uri": "https://localhost:8080/",
          "height": 119
        },
        "outputId": "3ca19315-9bbe-468f-8e80-2921de838191"
      },
      "source": [
        "compute_metrics(df, PREDICTIONS)"
      ],
      "execution_count": 483,
      "outputs": [
        {
          "output_type": "execute_result",
          "data": {
            "text/plain": [
              "{'predict_names': dict_keys(['PPV prediction', 'NPV prediction']),\n",
              " 'results_dict': {'NPV panel': 0.2,\n",
              "  'NPV prediction': 0.5111111111111111,\n",
              "  'PPV clinic': 0.7857142857142857,\n",
              "  'PPV panel': 0.7798165137614679,\n",
              "  'PPV prediction': 0.908256880733945}}"
            ]
          },
          "metadata": {
            "tags": []
          },
          "execution_count": 483
        }
      ]
    },
    {
      "cell_type": "code",
      "metadata": {
        "id": "Y7jJSrxnFK_I",
        "colab_type": "code",
        "colab": {}
      },
      "source": [
        "df_metrics,predict_names = data_by_age(df, PREDICTIONS , verbose=False)\n",
        "df_metrics = df_metrics.reset_index().drop('index', axis=1)"
      ],
      "execution_count": 0,
      "outputs": []
    },
    {
      "cell_type": "code",
      "metadata": {
        "id": "OTklGVQJEBpM",
        "colab_type": "code",
        "colab": {
          "base_uri": "https://localhost:8080/",
          "height": 204
        },
        "outputId": "a8090087-cc38-4f50-bff8-7c5af83ad34b"
      },
      "source": [
        "df_metrics.head()"
      ],
      "execution_count": 485,
      "outputs": [
        {
          "output_type": "execute_result",
          "data": {
            "text/html": [
              "<div>\n",
              "<style scoped>\n",
              "    .dataframe tbody tr th:only-of-type {\n",
              "        vertical-align: middle;\n",
              "    }\n",
              "\n",
              "    .dataframe tbody tr th {\n",
              "        vertical-align: top;\n",
              "    }\n",
              "\n",
              "    .dataframe thead th {\n",
              "        text-align: right;\n",
              "    }\n",
              "</style>\n",
              "<table border=\"1\" class=\"dataframe\">\n",
              "  <thead>\n",
              "    <tr style=\"text-align: right;\">\n",
              "      <th></th>\n",
              "      <th>PPV clinic</th>\n",
              "      <th>PPV panel</th>\n",
              "      <th>NPV panel</th>\n",
              "      <th>PPV prediction</th>\n",
              "      <th>NPV prediction</th>\n",
              "      <th>n</th>\n",
              "      <th>age_group</th>\n",
              "    </tr>\n",
              "  </thead>\n",
              "  <tbody>\n",
              "    <tr>\n",
              "      <th>0</th>\n",
              "      <td>0.500000</td>\n",
              "      <td>0.470588</td>\n",
              "      <td>0.333333</td>\n",
              "      <td>0.500000</td>\n",
              "      <td>0.500000</td>\n",
              "      <td>20</td>\n",
              "      <td>22 - 28</td>\n",
              "    </tr>\n",
              "    <tr>\n",
              "      <th>1</th>\n",
              "      <td>0.653846</td>\n",
              "      <td>0.578947</td>\n",
              "      <td>0.142857</td>\n",
              "      <td>0.750000</td>\n",
              "      <td>0.428571</td>\n",
              "      <td>26</td>\n",
              "      <td>23 - 29</td>\n",
              "    </tr>\n",
              "    <tr>\n",
              "      <th>2</th>\n",
              "      <td>0.578947</td>\n",
              "      <td>0.500000</td>\n",
              "      <td>0.125000</td>\n",
              "      <td>0.800000</td>\n",
              "      <td>0.565217</td>\n",
              "      <td>38</td>\n",
              "      <td>24 - 30</td>\n",
              "    </tr>\n",
              "    <tr>\n",
              "      <th>3</th>\n",
              "      <td>0.651163</td>\n",
              "      <td>0.558824</td>\n",
              "      <td>0.000000</td>\n",
              "      <td>0.888889</td>\n",
              "      <td>0.520000</td>\n",
              "      <td>43</td>\n",
              "      <td>25 - 31</td>\n",
              "    </tr>\n",
              "    <tr>\n",
              "      <th>4</th>\n",
              "      <td>0.645833</td>\n",
              "      <td>0.552632</td>\n",
              "      <td>0.000000</td>\n",
              "      <td>0.894737</td>\n",
              "      <td>0.517241</td>\n",
              "      <td>48</td>\n",
              "      <td>26 - 32</td>\n",
              "    </tr>\n",
              "  </tbody>\n",
              "</table>\n",
              "</div>"
            ],
            "text/plain": [
              "   PPV clinic  PPV panel  NPV panel  ...  NPV prediction   n  age_group\n",
              "0    0.500000   0.470588   0.333333  ...        0.500000  20    22 - 28\n",
              "1    0.653846   0.578947   0.142857  ...        0.428571  26    23 - 29\n",
              "2    0.578947   0.500000   0.125000  ...        0.565217  38    24 - 30\n",
              "3    0.651163   0.558824   0.000000  ...        0.520000  43    25 - 31\n",
              "4    0.645833   0.552632   0.000000  ...        0.517241  48    26 - 32\n",
              "\n",
              "[5 rows x 7 columns]"
            ]
          },
          "metadata": {
            "tags": []
          },
          "execution_count": 485
        }
      ]
    },
    {
      "cell_type": "code",
      "metadata": {
        "id": "s8ikZR9VElez",
        "colab_type": "code",
        "colab": {}
      },
      "source": [
        "def add_diff(df, predictions):\n",
        "\n",
        "  for p in predictions:\n",
        "    prefix = '' if len(predictions) == 1 else p\n",
        "    df[prefix + 'PPV delta [%]'] = ((df['PPV ' + p] - df['PPV panel'])*100).replace(np.inf, 60)\n",
        "    df[prefix + 'NPV delta [%]'] = ((df['NPV ' + p] - df['NPV panel'])*100).replace(np.inf, 60)\n",
        "\n",
        "  return df"
      ],
      "execution_count": 0,
      "outputs": []
    },
    {
      "cell_type": "code",
      "metadata": {
        "id": "JRYCkN7FFj2b",
        "colab_type": "code",
        "colab": {}
      },
      "source": [
        "df_metrics = add_diff(df_metrics, PREDICTIONS)"
      ],
      "execution_count": 0,
      "outputs": []
    },
    {
      "cell_type": "code",
      "metadata": {
        "id": "p4dyHBphgEq_",
        "colab_type": "code",
        "colab": {
          "base_uri": "https://localhost:8080/",
          "height": 517
        },
        "outputId": "7ff82f7e-9e74-4ea8-aeeb-3c62219ff071"
      },
      "source": [
        "# sns.scatterplot(x = df_metrics.index, y = 'NPV prediction', data = df_metrics)\n",
        "# sns.scatterplot(x = df_metrics.index, y = 'NPV panel', data = df_metrics)\n",
        "sns.barplot(x = df_metrics.index, y = 'NPV delta [%]', data = df_metrics)"
      ],
      "execution_count": 526,
      "outputs": [
        {
          "output_type": "execute_result",
          "data": {
            "text/plain": [
              "<matplotlib.axes._subplots.AxesSubplot at 0x7eff51579438>"
            ]
          },
          "metadata": {
            "tags": []
          },
          "execution_count": 526
        },
        {
          "output_type": "display_data",
          "data": {
            "image/png": "[encoded data removed]",
            "text/plain": [
              "<Figure size 842.4x595.44 with 1 Axes>"
            ]
          },
          "metadata": {
            "tags": []
          }
        }
      ]
    },
    {
      "cell_type": "code",
      "metadata": {
        "id": "_kGlS7-Btla1",
        "colab_type": "code",
        "colab": {}
      },
      "source": [
        "# df_metrics['age_group'] = df_metrics['age_group'].astype('category') # categorize the age group for plotting purpases"
      ],
      "execution_count": 0,
      "outputs": []
    },
    {
      "cell_type": "code",
      "metadata": {
        "id": "MIYcW0K5xjcT",
        "colab_type": "code",
        "outputId": "2ba1695d-060d-4219-a8c7-e1c114dabc21",
        "colab": {
          "base_uri": "https://localhost:8080/",
          "height": 204
        }
      },
      "source": [
        "df_metrics.head()"
      ],
      "execution_count": 444,
      "outputs": [
        {
          "output_type": "execute_result",
          "data": {
            "text/html": [
              "<div>\n",
              "<style scoped>\n",
              "    .dataframe tbody tr th:only-of-type {\n",
              "        vertical-align: middle;\n",
              "    }\n",
              "\n",
              "    .dataframe tbody tr th {\n",
              "        vertical-align: top;\n",
              "    }\n",
              "\n",
              "    .dataframe thead th {\n",
              "        text-align: right;\n",
              "    }\n",
              "</style>\n",
              "<table border=\"1\" class=\"dataframe\">\n",
              "  <thead>\n",
              "    <tr style=\"text-align: right;\">\n",
              "      <th></th>\n",
              "      <th>PPV clinic</th>\n",
              "      <th>PPV panel</th>\n",
              "      <th>NPV panel</th>\n",
              "      <th>PPV prediction</th>\n",
              "      <th>NPV prediction</th>\n",
              "      <th>n</th>\n",
              "      <th>age_group</th>\n",
              "      <th>PPV delta [%]</th>\n",
              "      <th>NPV delta [%]</th>\n",
              "    </tr>\n",
              "  </thead>\n",
              "  <tbody>\n",
              "    <tr>\n",
              "      <th>0</th>\n",
              "      <td>0.500000</td>\n",
              "      <td>0.470588</td>\n",
              "      <td>0.333333</td>\n",
              "      <td>0.500000</td>\n",
              "      <td>0.500000</td>\n",
              "      <td>20</td>\n",
              "      <td>22 - 28</td>\n",
              "      <td>2.941176</td>\n",
              "      <td>16.666667</td>\n",
              "    </tr>\n",
              "    <tr>\n",
              "      <th>1</th>\n",
              "      <td>0.653846</td>\n",
              "      <td>0.578947</td>\n",
              "      <td>0.142857</td>\n",
              "      <td>0.750000</td>\n",
              "      <td>0.428571</td>\n",
              "      <td>26</td>\n",
              "      <td>23 - 29</td>\n",
              "      <td>17.105263</td>\n",
              "      <td>28.571429</td>\n",
              "    </tr>\n",
              "    <tr>\n",
              "      <th>2</th>\n",
              "      <td>0.578947</td>\n",
              "      <td>0.500000</td>\n",
              "      <td>0.125000</td>\n",
              "      <td>0.800000</td>\n",
              "      <td>0.565217</td>\n",
              "      <td>38</td>\n",
              "      <td>24 - 30</td>\n",
              "      <td>30.000000</td>\n",
              "      <td>44.021739</td>\n",
              "    </tr>\n",
              "    <tr>\n",
              "      <th>3</th>\n",
              "      <td>0.651163</td>\n",
              "      <td>0.558824</td>\n",
              "      <td>0.000000</td>\n",
              "      <td>0.888889</td>\n",
              "      <td>0.520000</td>\n",
              "      <td>43</td>\n",
              "      <td>25 - 31</td>\n",
              "      <td>33.006536</td>\n",
              "      <td>52.000000</td>\n",
              "    </tr>\n",
              "    <tr>\n",
              "      <th>4</th>\n",
              "      <td>0.645833</td>\n",
              "      <td>0.552632</td>\n",
              "      <td>0.000000</td>\n",
              "      <td>0.894737</td>\n",
              "      <td>0.517241</td>\n",
              "      <td>48</td>\n",
              "      <td>26 - 32</td>\n",
              "      <td>34.210526</td>\n",
              "      <td>51.724138</td>\n",
              "    </tr>\n",
              "  </tbody>\n",
              "</table>\n",
              "</div>"
            ],
            "text/plain": [
              "   PPV clinic  PPV panel  NPV panel  ...  age_group  PPV delta [%]  NPV delta [%]\n",
              "0    0.500000   0.470588   0.333333  ...    22 - 28       2.941176      16.666667\n",
              "1    0.653846   0.578947   0.142857  ...    23 - 29      17.105263      28.571429\n",
              "2    0.578947   0.500000   0.125000  ...    24 - 30      30.000000      44.021739\n",
              "3    0.651163   0.558824   0.000000  ...    25 - 31      33.006536      52.000000\n",
              "4    0.645833   0.552632   0.000000  ...    26 - 32      34.210526      51.724138\n",
              "\n",
              "[5 rows x 9 columns]"
            ]
          },
          "metadata": {
            "tags": []
          },
          "execution_count": 444
        }
      ]
    },
    {
      "cell_type": "code",
      "metadata": {
        "id": "y8PDOT_Sf6Wg",
        "colab_type": "code",
        "colab": {}
      },
      "source": [
        ""
      ],
      "execution_count": 0,
      "outputs": []
    },
    {
      "cell_type": "code",
      "metadata": {
        "id": "jZUonOXGxv-5",
        "colab_type": "code",
        "colab": {}
      },
      "source": [
        "df_melt = df_metrics.drop('n', axis = 1).melt('age_group')"
      ],
      "execution_count": 0,
      "outputs": []
    },
    {
      "cell_type": "code",
      "metadata": {
        "id": "H6QXzdG-Q8Im",
        "colab_type": "code",
        "colab": {
          "base_uri": "https://localhost:8080/",
          "height": 204
        },
        "outputId": "48273a6f-b1f3-4d3c-f4d3-19c5f51871a2"
      },
      "source": [
        "df_melt.head()"
      ],
      "execution_count": 446,
      "outputs": [
        {
          "output_type": "execute_result",
          "data": {
            "text/html": [
              "<div>\n",
              "<style scoped>\n",
              "    .dataframe tbody tr th:only-of-type {\n",
              "        vertical-align: middle;\n",
              "    }\n",
              "\n",
              "    .dataframe tbody tr th {\n",
              "        vertical-align: top;\n",
              "    }\n",
              "\n",
              "    .dataframe thead th {\n",
              "        text-align: right;\n",
              "    }\n",
              "</style>\n",
              "<table border=\"1\" class=\"dataframe\">\n",
              "  <thead>\n",
              "    <tr style=\"text-align: right;\">\n",
              "      <th></th>\n",
              "      <th>age_group</th>\n",
              "      <th>variable</th>\n",
              "      <th>value</th>\n",
              "    </tr>\n",
              "  </thead>\n",
              "  <tbody>\n",
              "    <tr>\n",
              "      <th>0</th>\n",
              "      <td>22 - 28</td>\n",
              "      <td>PPV clinic</td>\n",
              "      <td>0.500000</td>\n",
              "    </tr>\n",
              "    <tr>\n",
              "      <th>1</th>\n",
              "      <td>23 - 29</td>\n",
              "      <td>PPV clinic</td>\n",
              "      <td>0.653846</td>\n",
              "    </tr>\n",
              "    <tr>\n",
              "      <th>2</th>\n",
              "      <td>24 - 30</td>\n",
              "      <td>PPV clinic</td>\n",
              "      <td>0.578947</td>\n",
              "    </tr>\n",
              "    <tr>\n",
              "      <th>3</th>\n",
              "      <td>25 - 31</td>\n",
              "      <td>PPV clinic</td>\n",
              "      <td>0.651163</td>\n",
              "    </tr>\n",
              "    <tr>\n",
              "      <th>4</th>\n",
              "      <td>26 - 32</td>\n",
              "      <td>PPV clinic</td>\n",
              "      <td>0.645833</td>\n",
              "    </tr>\n",
              "  </tbody>\n",
              "</table>\n",
              "</div>"
            ],
            "text/plain": [
              "  age_group    variable     value\n",
              "0   22 - 28  PPV clinic  0.500000\n",
              "1   23 - 29  PPV clinic  0.653846\n",
              "2   24 - 30  PPV clinic  0.578947\n",
              "3   25 - 31  PPV clinic  0.651163\n",
              "4   26 - 32  PPV clinic  0.645833"
            ]
          },
          "metadata": {
            "tags": []
          },
          "execution_count": 446
        }
      ]
    },
    {
      "cell_type": "code",
      "metadata": {
        "id": "i9n9qoBdRGBG",
        "colab_type": "code",
        "colab": {
          "base_uri": "https://localhost:8080/",
          "height": 34
        },
        "outputId": "b18bf47c-0c5d-4988-a27a-403aaf068e29"
      },
      "source": [
        "predict_names"
      ],
      "execution_count": 447,
      "outputs": [
        {
          "output_type": "execute_result",
          "data": {
            "text/plain": [
              "dict_keys(['PPV prediction', 'NPV prediction'])"
            ]
          },
          "metadata": {
            "tags": []
          },
          "execution_count": 447
        }
      ]
    },
    {
      "cell_type": "code",
      "metadata": {
        "id": "CDFljEn65yQL",
        "colab_type": "code",
        "colab": {}
      },
      "source": [
        "to_plot_ppv = ['PPV clinic' , 'PPV panel', 'PPV prediction']\n",
        "to_plot_npv = ['NPV clinic' , 'NPV panel', 'NPV prediction']\n",
        "to_plot_ppv_new = ['PPV clinic' , 'PPV panel', 'PPV prediction_new']\n",
        "to_plot_npv_new = ['NPV clinic' , 'NPV panel', 'NPV prediction_new']\n",
        "to_plot_ppv_old = ['PPV clinic' , 'PPV panel', 'PPV prediction_old']\n",
        "to_plot_npv_old = ['NPV clinic' , 'NPV panel', 'NPV prediction_old']"
      ],
      "execution_count": 0,
      "outputs": []
    },
    {
      "cell_type": "code",
      "metadata": {
        "id": "xuSIt9BZJlqV",
        "colab_type": "code",
        "colab": {
          "base_uri": "https://localhost:8080/",
          "height": 204
        },
        "outputId": "8af50713-fcd9-41db-81ec-71ff755330b4"
      },
      "source": [
        "df_melt.head()"
      ],
      "execution_count": 456,
      "outputs": [
        {
          "output_type": "execute_result",
          "data": {
            "text/html": [
              "<div>\n",
              "<style scoped>\n",
              "    .dataframe tbody tr th:only-of-type {\n",
              "        vertical-align: middle;\n",
              "    }\n",
              "\n",
              "    .dataframe tbody tr th {\n",
              "        vertical-align: top;\n",
              "    }\n",
              "\n",
              "    .dataframe thead th {\n",
              "        text-align: right;\n",
              "    }\n",
              "</style>\n",
              "<table border=\"1\" class=\"dataframe\">\n",
              "  <thead>\n",
              "    <tr style=\"text-align: right;\">\n",
              "      <th></th>\n",
              "      <th>age_group</th>\n",
              "      <th>variable</th>\n",
              "      <th>value</th>\n",
              "    </tr>\n",
              "  </thead>\n",
              "  <tbody>\n",
              "    <tr>\n",
              "      <th>0</th>\n",
              "      <td>22 - 28</td>\n",
              "      <td>PPV clinic</td>\n",
              "      <td>0.500000</td>\n",
              "    </tr>\n",
              "    <tr>\n",
              "      <th>1</th>\n",
              "      <td>23 - 29</td>\n",
              "      <td>PPV clinic</td>\n",
              "      <td>0.653846</td>\n",
              "    </tr>\n",
              "    <tr>\n",
              "      <th>2</th>\n",
              "      <td>24 - 30</td>\n",
              "      <td>PPV clinic</td>\n",
              "      <td>0.578947</td>\n",
              "    </tr>\n",
              "    <tr>\n",
              "      <th>3</th>\n",
              "      <td>25 - 31</td>\n",
              "      <td>PPV clinic</td>\n",
              "      <td>0.651163</td>\n",
              "    </tr>\n",
              "    <tr>\n",
              "      <th>4</th>\n",
              "      <td>26 - 32</td>\n",
              "      <td>PPV clinic</td>\n",
              "      <td>0.645833</td>\n",
              "    </tr>\n",
              "  </tbody>\n",
              "</table>\n",
              "</div>"
            ],
            "text/plain": [
              "  age_group    variable     value\n",
              "0   22 - 28  PPV clinic  0.500000\n",
              "1   23 - 29  PPV clinic  0.653846\n",
              "2   24 - 30  PPV clinic  0.578947\n",
              "3   25 - 31  PPV clinic  0.651163\n",
              "4   26 - 32  PPV clinic  0.645833"
            ]
          },
          "metadata": {
            "tags": []
          },
          "execution_count": 456
        }
      ]
    },
    {
      "cell_type": "markdown",
      "metadata": {
        "id": "LcsoNOT72plI",
        "colab_type": "text"
      },
      "source": [
        "ppv plot"
      ]
    },
    {
      "cell_type": "code",
      "metadata": {
        "id": "XIkyL0Iv5L9x",
        "colab_type": "code",
        "colab": {}
      },
      "source": [
        "def report(to_plot , metric_type , xlabel, df_metrics, df_melt):\n",
        "  from matplotlib import gridspec\n",
        "\n",
        "  fig = plt.figure()\n",
        "  gs = fig.add_gridspec(1, 9)\n",
        "\n",
        "  # age distribution (uses df_metrics)\n",
        "  ax1 = fig.add_subplot(gs[0,0])\n",
        "  g1 = sns.catplot(y = 'age_group',\n",
        "                  x='n',\n",
        "                  data = df_metrics,\n",
        "                  orient='horizontal',\n",
        "                  ax=ax1,\n",
        "                  kind='bar',\n",
        "                  color='grey')\n",
        "  ax1.invert_xaxis()\n",
        "  ax1.set_xlabel('# of patients')\n",
        "\n",
        "  # results (uses df_melt)\n",
        "  ax2 = fig.add_subplot(gs[0,1:7])\n",
        "  g2 = sns.catplot(y = 'age_group',\n",
        "                  x = 'value',\n",
        "                  hue = 'variable',\n",
        "                  data = df_melt[df_melt['variable'].isin(to_plot)],\n",
        "                  orient = 'horizontal',\n",
        "                  kind='point',\n",
        "                  legend_out=False,\n",
        "                  ax=ax2\n",
        "                  )\n",
        "  \n",
        "  plt.setp(ax2.get_yticklabels(), visible=False)\n",
        "  ax2.set_ylabel('')\n",
        "  ax2.set_xlabel(xlabel)\n",
        "\n",
        "  # diff (uses df_metrics)\n",
        "  ax3 = fig.add_subplot(gs[0, 7])\n",
        "  metric = 'PPV delta [%]' if metric_type == 'ppv' else 'NPV delta [%]'\n",
        "  g3 = sns.catplot(data=df_metrics,\n",
        "                  y='age_group',\n",
        "                  x= metric ,\n",
        "                  kind='bar',\n",
        "                  orient='horizontal',\n",
        "                  color='grey',\n",
        "                  ax=ax3)\n",
        "  plt.setp(ax3.get_yticklabels(), visible=False)\n",
        "  ax3.set_ylabel('')\n",
        "  ax3.set_xlim([0,50])\n",
        "\n",
        "  # t-test table (uses df_metrics)\n",
        "  # ax4.add_subplot(gs[0,8])\n",
        "  # g4 = plt.table(colLabels=df_metrics['n'], rowLabels=df_metrics['age_group'], cellText=df_metrics['n'])\n",
        "\n",
        "\n",
        "  #close extras\n",
        "  plt.close(2)\n",
        "  plt.close(3)\n",
        "  plt.close(4)\n",
        "\n",
        "  plt.tight_layout()"
      ],
      "execution_count": 0,
      "outputs": []
    },
    {
      "cell_type": "code",
      "metadata": {
        "id": "KgLr9wGq5g5I",
        "colab_type": "code",
        "colab": {
          "base_uri": "https://localhost:8080/",
          "height": 600
        },
        "outputId": "72b35ea1-f45a-4e41-d130-54c63d6c0b9e"
      },
      "source": [
        "report(to_plot_ppv, 'ppv', 'PPV', df_metrics, df_melt)"
      ],
      "execution_count": 510,
      "outputs": [
        {
          "output_type": "display_data",
          "data": {
            "image/png": "[encoded data removed]",
            "text/plain": [
              "<Figure size 842.4x595.44 with 3 Axes>"
            ]
          },
          "metadata": {
            "tags": []
          }
        }
      ]
    },
    {
      "cell_type": "code",
      "metadata": {
        "id": "uw-7dAmW2u0r",
        "colab_type": "code",
        "colab": {
          "base_uri": "https://localhost:8080/",
          "height": 600
        },
        "outputId": "075de30a-5c76-4c49-cee4-585255689f9a"
      },
      "source": [
        "report(to_plot_npv, 'npv', 'NPV', df_metrics, df_melt)"
      ],
      "execution_count": 465,
      "outputs": [
        {
          "output_type": "display_data",
          "data": {
            "image/png": "[encoded data removed]",
            "text/plain": [
              "<Figure size 842.4x595.44 with 3 Axes>"
            ]
          },
          "metadata": {
            "tags": []
          }
        }
      ]
    },
    {
      "cell_type": "code",
      "metadata": {
        "id": "Rt_Mrf8Q2u3N",
        "colab_type": "code",
        "colab": {}
      },
      "source": [
        ""
      ],
      "execution_count": 0,
      "outputs": []
    },
    {
      "cell_type": "code",
      "metadata": {
        "id": "NoIXAN2P2u5o",
        "colab_type": "code",
        "colab": {}
      },
      "source": [
        ""
      ],
      "execution_count": 0,
      "outputs": []
    },
    {
      "cell_type": "code",
      "metadata": {
        "id": "QCAc7ej_2u-K",
        "colab_type": "code",
        "colab": {}
      },
      "source": [
        ""
      ],
      "execution_count": 0,
      "outputs": []
    },
    {
      "cell_type": "code",
      "metadata": {
        "id": "G9IsF90B2vA_",
        "colab_type": "code",
        "colab": {}
      },
      "source": [
        ""
      ],
      "execution_count": 0,
      "outputs": []
    },
    {
      "cell_type": "code",
      "metadata": {
        "id": "N2HSuHHOwyB7",
        "colab_type": "code",
        "colab": {}
      },
      "source": [
        ""
      ],
      "execution_count": 0,
      "outputs": []
    }
  ]
}