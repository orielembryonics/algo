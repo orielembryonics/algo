{
 "cells": [
  {
   "cell_type": "code",
   "execution_count": 42,
   "metadata": {},
   "outputs": [
    {
     "name": "stdin",
     "output_type": "stream",
     "text": [
      "Enter file name A\n",
      "Enter file name A\n"
     ]
    },
    {
     "name": "stdout",
     "output_type": "stream",
     "text": [
      "Files are:  [\"'A'\", \"'A'\"]\n",
      "'A', 'A'\n",
      "('https://storage.cloud.google.com/embryonicsbucket/Files/Nadiya/+/D2012.08.21_S0104_I162_wells_4_video.avi',)\n",
      "Download Complete!\n"
     ]
    }
   ],
   "source": [
    "import psycopg2\n",
    "import urllib \n",
    "\n",
    "\n",
    "# Add files name to list\n",
    "files_list = []\n",
    "file_name = \"'\" + raw_input(\"Enter file name\") + \"'\"\n",
    "files_list.append(file_name)\n",
    "file_name = \"'\" + raw_input(\"Enter file name\") + \"'\"\n",
    "files_list.append(file_name)\n",
    "\n",
    "print \"Files are: \", files_list\n",
    "\n",
    "try:\n",
    "    conn = psycopg2.connect(host='34.85.27.74', port='5432', database='Embryonics_DB', user='postgres', password = 'password')\n",
    "    c = conn.cursor()\n",
    "   \n",
    "    placeholders= ', '.join(files_list)\n",
    "    print placeholders\n",
    "    c.execute('SELECT refer_to_movie FROM embryonics_table where file_name in (%s)' % placeholders)\n",
    "  \n",
    "   # row = c.fetchone()\n",
    "   # print row\n",
    "\n",
    "    rows = c.fetchall()    # get all selected rows\n",
    "    for r in rows:\n",
    "        #url_to_download = 'https://storage.cloud.google.com/embryonicsbucket/Files/Nadiya/+/D2012.08.21_S0104_I162_wells_4_video.avi'\n",
    "        filename = 'Download_Videos_From_Storage/Embryo_Test_Movie.avi'\n",
    "        urllib.urlretrieve(r, filename)\n",
    "\n",
    "print \"Download Complete!\"\n",
    "    c.close()\n",
    "\n",
    "   # print('Beginning file download ...') \n",
    "   # urllib.request.urlretrieve(row, 'C:\\Users\\Efrat Shachor\\Downloads\\Files\\cat.jpg')  \n",
    "   \n",
    "except socket.herror:\n",
    "        print u\"Unknown host\"\n",
    "\n"
   ]
  },
  {
   "cell_type": "code",
   "execution_count": 38,
   "metadata": {},
   "outputs": [
    {
     "name": "stdout",
     "output_type": "stream",
     "text": [
      "Download Complete!\n"
     ]
    }
   ],
   "source": [
    "\n",
    "\n",
    "url_to_download = 'https://storage.cloud.google.com/embryonicsbucket/Files/Nadiya/+/D2012.08.21_S0104_I162_wells_4_video.avi'\n",
    "#path = 'C:\\Users\\Efrat Shachor\\Downloads'\n",
    "filename = 'Download_Videos_From_Storage/Embryo_Test_Movie.avi'\n",
    "#fullfilename = os.path.join(path,filename )\n",
    "urllib.urlretrieve(url_to_download, filename)\n",
    "\n",
    "print \"Download Complete!\"\n"
   ]
  },
  {
   "cell_type": "code",
   "execution_count": 41,
   "metadata": {},
   "outputs": [],
   "source": [
    "import requests\n",
    "\n",
    "url = 'https://storage.cloud.google.com/embryonicsbucket/Files/Nadiya/+/D2012.08.21_S0104_I162_wells_4_video.avi'\n",
    "req = requests.get(url)\n",
    "req.status_code\n",
    "#open('c:/Users/Efrat Shachor/Downloads/abc.avi', 'wb').write(myfile.content)\n",
    " \n",
    "# open method to open a file on your system and write the contents\n",
    "with open('Download_Videos_From_Storage/Embryo_Test_Movie.avi', 'wb') as f:\n",
    "    f.write(req.content)\n",
    " "
   ]
  },
  {
   "cell_type": "code",
   "execution_count": 94,
   "metadata": {},
   "outputs": [
    {
     "name": "stdout",
     "output_type": "stream",
     "text": [
      "external IP: 34.76.59.220\n",
      "IP seems OK. you should be able to access the SQL.\n"
     ]
    }
   ],
   "source": [
    "jupyter_addr = '34.76.59.220'\n",
    "\n",
    "from urllib import urlopen\n",
    "import re\n",
    "def getPublicIp():\n",
    "    data = str(urlopen('http://checkip.dyndns.com/').read())\n",
    "    return re.compile(r'Address: (\\d+\\.\\d+\\.\\d+\\.\\d+)').search(data).group(1)\n",
    "  \n",
    "print 'external IP:', getPublicIp()\n",
    "if (getPublicIp() != jupyter_addr) and (getPublicIp() != base_ip_addr):\n",
    "    try:\n",
    "        #for local instance\n",
    "        from google import auth\n",
    "        auth.default()\n",
    "        import socket\n",
    "        sock = socket.socket(socket.AF_INET, socket.SOCK_STREAM)\n",
    "        result = sock.connect_ex(('127.0.0.1',5432))\n",
    "        if (result != 0): \n",
    "            print 'SQL not bound locally'\n",
    "            print 'Proxy may not be loaded. you may want to execute the following command outside the jupyter session:'\n",
    "            print 'gcloud compute ssh {0} -- -L 8080:localhost:8080'.format(jupyter_id)\n",
    "        else:\n",
    "            local = True\n",
    "    except:\n",
    "        #for colab instance\n",
    "        from google.colab import auth\n",
    "        auth.authenticate_user()\n",
    "        print 'Seems that you are running a remote instance of colab.'\n",
    "        print 'Note, you may be unable to access the SQL'\n",
    "    print 'gcloud active account:'\n",
    "    !gcloud config get-value account\n",
    "    print 'gcloud active project:'\n",
    "    !gcloud config get-value project\n",
    "else:\n",
    "    print 'IP seems OK. you should be able to access the SQL.'"
   ]
  },
  {
   "cell_type": "code",
   "execution_count": null,
   "metadata": {},
   "outputs": [],
   "source": []
  },
  {
   "cell_type": "code",
   "execution_count": 95,
   "metadata": {},
   "outputs": [
    {
     "name": "stdout",
     "output_type": "stream",
     "text": [
      "False\n",
      "Beginning file download with urllib2...\n",
      "aaa\n"
     ]
    }
   ],
   "source": [
    "import urllib2\n",
    "import requests\n",
    "\n",
    "def is_downloadable(url):\n",
    "    \"\"\"\n",
    "    Does the url contain a downloadable resource\n",
    "    \"\"\"\n",
    "    h = requests.head(url, allow_redirects=True)\n",
    "    header = h.headers\n",
    "    content_type = header.get('content-type')\n",
    "    if 'text' in content_type.lower():\n",
    "        return False\n",
    "    if 'html' in content_type.lower():\n",
    "        return False\n",
    "    return True  \n",
    "print is_downloadable('https://storage.cloud.google.com/embryonicsbucket/Files/Ukraine_2019_02_Nadiya_part1/D2012.03.27_S0028_I162_wells_1_2_3_4_5_6_7_8_9_10_11_12_video.avi')  \n",
    "\n",
    "filedata = urllib2.urlopen('https://storage.cloud.google.com/embryonicsbucket/Files/Ukraine_2019_02_Nadiya_part1/D2012.03.27_S0028_I162_wells_1_2_3_4_5_6_7_8_9_10_11_12_video.avi')  \n",
    "datatowrite = filedata.read()\n",
    "\n",
    "print('Beginning file download with urllib2...')\n",
    "\n",
    "with open('C:\\Users\\Efrat Shachor\\Downloads\\Files\\cat.jpg', 'wb') as f:  \n",
    "    f.write(datatowrite)\n",
    "    print \"aaa\"\n",
    "#url = 'https://storage.cloud.google.com/embryonicsbucket/Files/Ukraine_2019_02_Nadiya_part1/D2012.03.27_S0028_I162_wells_1_2_3_4_5_6_7_8_9_10_11_12_video.avi'  \n",
    "#urllib.request.urlretrieve(url, 'C:\\Users\\Efrat Shachor\\Downloads\\Files\\cat.jpg')  "
   ]
  },
  {
   "cell_type": "code",
   "execution_count": null,
   "metadata": {},
   "outputs": [],
   "source": []
  }
 ],
 "metadata": {
  "kernelspec": {
   "display_name": "Python 2",
   "language": "python",
   "name": "python2"
  },
  "language_info": {
   "codemirror_mode": {
    "name": "ipython",
    "version": 2
   },
   "file_extension": ".py",
   "mimetype": "text/x-python",
   "name": "python",
   "nbconvert_exporter": "python",
   "pygments_lexer": "ipython2",
   "version": "2.7.13"
  }
 },
 "nbformat": 4,
 "nbformat_minor": 2
}
