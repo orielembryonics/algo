{
 "cells": [
  {
   "cell_type": "code",
   "execution_count": 30,
   "metadata": {},
   "outputs": [],
   "source": [
    "import socket\n",
    "import psycopg2\n",
    "import urllib \n",
    "from datetime import datetime"
   ]
  },
  {
   "cell_type": "markdown",
   "metadata": {},
   "source": [
    "INSERT"
   ]
  },
  {
   "cell_type": "code",
   "execution_count": 28,
   "metadata": {},
   "outputs": [
    {
     "name": "stdout",
     "output_type": "stream",
     "text": [
      "[('Grades', 'Validation R^2', 0.5795, datetime.datetime(2019, 5, 19, 0, 0), 'Martin', 'Experimental', 'gs://embryonicsbucket/Upload/Models/Grades/2019-05-19/', 'gs://embryonicsbucket/Upload/Models/Grades/2019-05-19/', 'gs://embryonicsbucket/Upload/Models/Grades/2019-05-19/', 'model_ukraine_resnet_repo_2019-5-19_18.h5', 'weights_ukraine_resnet_repo_2019-5-19_18.h5', 'Grade_Regression_Model_2019-05-19.ipynb', 'dataset_ukraine_resnet_repo_2019-5-19_18.h5', 'Algo_2019-05-19_Martin.docx', 'Grade_Regression_Results_2019-5-19_18.ipynb', 'Regression model', 1)]\n"
     ]
    }
   ],
   "source": [
    "model_type = 'Grades'\n",
    "run_date = datetime.now()\n",
    "owner = 'martin'\n",
    "stage = 'pre-alpha'\n",
    "metric = 'R^2'\n",
    "metric_value = 0.55\n",
    "link_to_result_directory = '/'\n",
    "link_to_model_directory = '/'\n",
    "link_to_input_dataset_directory = '/'\n",
    "link_to_hdf5_with_the_model = '.h5'\n",
    "link_to_hdf5_with_the_weights_of_the_model = '.h5'\n",
    "link_to_notebook_with_the_training_process_of_the_model = 'ipynb'\n",
    "link_to_hdf5_with_the_input_dataset_sample_set_to_the_model = '.h5'\n",
    "link_to_filled_copy_of_Shahar_algo_template = '.docx'\n",
    "link_to_notebook_with_the_results_of_the_model = 'ipynb'\n",
    "Comments = ''\n",
    "\n",
    "\n",
    "try:\n",
    "    conn = psycopg2.connect(host='34.85.27.74', port='5432', database='Embryonics_DB', user='postgres', password = 'password')\n",
    "    c = conn.cursor()\n",
    "       \n",
    "    c.execute('''INSERT INTO \"Model_Info\" \n",
    "                               (\"model_type\", \"run_date\", \"owner\", \"stage\", \"metric\", \"metric_value\",\n",
    "                                \"link_to_result_directory\", \"link_to_model_directory\", \"link_to_input_dataset_directory\",\n",
    "                                \"link_to_hdf5_with_the_model\", \"link_to_hdf5_with_the_weights_of_the_model\",\n",
    "                                \"link_to_notebook_with_the_training_process_of_the_model\", \"link_to_hdf5_with_the_input_dataset_sample_set_to_the_model\",\n",
    "                                \"link_to_filled_copy_of_Shahar_algo_template\", \"link_to_notebook_with_the_results_of_the_model\", \"Comments\"\n",
    "                               )\n",
    "                        VALUES(%s, %s, %s, %s, %s, %s,  %s, %s, %s,  %s, %s,  %s, %s  ,%s, %s, %s);\n",
    "              ''', \\\n",
    "                               (model_type, run_date, owner, stage, metric, metric_value, \\\n",
    "                                link_to_result_directory, link_to_model_directory, link_to_input_dataset_directory, \\\n",
    "                                link_to_hdf5_with_the_model, link_to_hdf5_with_the_weights_of_the_model, \\\n",
    "                                link_to_notebook_with_the_training_process_of_the_model, link_to_hdf5_with_the_input_dataset_sample_set_to_the_model, \\\n",
    "                                link_to_filled_copy_of_Shahar_algo_template, link_to_notebook_with_the_results_of_the_model, Comments))\n",
    "    \n",
    "    conn.commit()\n",
    "    c.close()\n",
    "    \n",
    "except socket.herror:\n",
    "        print u\"Unknown host\"\n"
   ]
  },
  {
   "cell_type": "markdown",
   "metadata": {},
   "source": [
    "LIST"
   ]
  },
  {
   "cell_type": "code",
   "execution_count": 32,
   "metadata": {},
   "outputs": [
    {
     "name": "stdout",
     "output_type": "stream",
     "text": [
      "{'tty': '', 'sslcompression': '0', 'dbname': 'Embryonics_DB', 'options': '', 'host': '34.85.27.74', 'target_session_attrs': 'any', 'user': 'postgres', 'sslmode': 'prefer', 'port': '5432', 'krbsrvname': 'postgres'}\n",
      "[('Grades', 'Validation R^2', 0.5795, datetime.datetime(2019, 5, 19, 0, 0), 'Martin', 'Experimental', 'gs://embryonicsbucket/Upload/Models/Grades/2019-05-19/', 'gs://embryonicsbucket/Upload/Models/Grades/2019-05-19/', 'gs://embryonicsbucket/Upload/Models/Grades/2019-05-19/', 'model_ukraine_resnet_repo_2019-5-19_18.h5', 'weights_ukraine_resnet_repo_2019-5-19_18.h5', 'Grade_Regression_Model_2019-05-19.ipynb', 'dataset_ukraine_resnet_repo_2019-5-19_18.h5', 'Algo_2019-05-19_Martin.docx', 'Grade_Regression_Results_2019-5-19_18.ipynb', 'Regression model', 1)]\n"
     ]
    }
   ],
   "source": [
    "try:\n",
    "    conn = psycopg2.connect(host='34.85.27.74', port='5432', database='Embryonics_DB', user='postgres', password = 'password')\n",
    "    #print conn.get_dsn_parameters()\n",
    "    c = conn.cursor()\n",
    "    c.execute('SELECT * FROM \"Model_Info\" limit 50;')\n",
    "    rows = c.fetchall()    # get all selected rows\n",
    "    print rows\n",
    "    c.close()\n",
    "    \n",
    "except socket.herror:\n",
    "        print u\"Unknown host\""
   ]
  },
  {
   "cell_type": "code",
   "execution_count": null,
   "metadata": {},
   "outputs": [],
   "source": []
  }
 ],
 "metadata": {
  "kernelspec": {
   "display_name": "Python 2",
   "language": "python",
   "name": "python2"
  },
  "language_info": {
   "codemirror_mode": {
    "name": "ipython",
    "version": 2
   },
   "file_extension": ".py",
   "mimetype": "text/x-python",
   "name": "python",
   "nbconvert_exporter": "python",
   "pygments_lexer": "ipython2",
   "version": "2.7.13"
  }
 },
 "nbformat": 4,
 "nbformat_minor": 2
}
