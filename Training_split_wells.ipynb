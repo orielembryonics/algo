{
 "cells": [
  {
   "cell_type": "markdown",
   "metadata": {},
   "source": [
    "<a href=\"https://colab.research.google.com/github/martin-embryo/colab/blob/master/Training_split_wells.ipynb\" target=\"_parent\"><img src=\"https://colab.research.google.com/assets/colab-badge.svg\" alt=\"Open In Colab\"/></a>"
   ]
  },
  {
   "cell_type": "code",
   "execution_count": 1,
   "metadata": {},
   "outputs": [
    {
     "name": "stderr",
     "output_type": "stream",
     "text": [
      "Using TensorFlow backend.\n",
      "/usr/local/lib/python2.7/dist-packages/google/auth/_default.py:66: UserWarning: Your application has authenticated using end user credentials from Google Cloud SDK. We recommend that most server applications use service accounts instead. If your application continues to use end user credentials from Cloud SDK, you might receive a \"quota exceeded\" or \"API not enabled\" error. For more information about service accounts, see https://cloud.google.com/docs/authentication/\n",
      "  warnings.warn(_CLOUD_SDK_CREDENTIALS_WARNING)\n"
     ]
    }
   ],
   "source": [
    "from datetime import datetime\n",
    "import sanity_checks\n",
    "\n",
    "import numpy as np\n",
    "import cv2\n",
    "import sys\n",
    "import csv\n",
    "import os\n",
    "import shutil\n",
    "import glob\n",
    "import h5py\n",
    "\n",
    "from PIL import Image, ImageFilter\n",
    "import matplotlib.pyplot as plt\n",
    "import matplotlib\n",
    "import hashlib\n",
    "\n",
    "import argparse\n",
    "from PIL import Image, ImageFilter, ImageEnhance\n",
    "\n",
    "from tensorflow.keras.models import Sequential, load_model\n",
    "from tensorflow.keras.layers import Conv2D, MaxPooling2D, Flatten, Dense, Dropout\n",
    "\n",
    "from tensorflow.keras.utils import to_categorical, HDF5Matrix\n",
    "from tensorflow.keras.applications.inception_resnet_v2 import InceptionResNetV2\n",
    "\n",
    "from google.cloud import storage\n",
    "\n",
    "project_id    = 'keen-incline-232408'\n",
    "bucket_name   = 'embryonicsbucket'\n",
    "model_dir  = 'Upload/Models'\n",
    "data_dir   = 'Upload/Data'\n",
    "\n",
    "storage_client = storage.Client(project = project_id)\n",
    "bucket = storage_client.get_bucket(bucket_name)"
   ]
  },
  {
   "cell_type": "code",
   "execution_count": 2,
   "metadata": {},
   "outputs": [
    {
     "name": "stdout",
     "output_type": "stream",
     "text": [
      "2019-05-16 13:40:22.755771\n",
      "operating system is: Ubuntu 16.04\n",
      "python version is 2.7.12\n",
      "tensorflow version is 1.12.2\n",
      "keras version is 2.2.4\n",
      "in-built keras version is 2.1.6-tf\n",
      "available devices: /device:CPU:0, /device:XLA_GPU:0, /device:XLA_CPU:0, /device:GPU:0\n",
      "embryonicsbucket\n"
     ]
    }
   ],
   "source": [
    "#sanity checks\n",
    "print(datetime.now())\n",
    "sanity_checks.full()\n",
    "print bucket.name"
   ]
  },
  {
   "cell_type": "code",
   "execution_count": null,
   "metadata": {},
   "outputs": [],
   "source": []
  },
  {
   "cell_type": "code",
   "execution_count": 3,
   "metadata": {},
   "outputs": [],
   "source": [
    "def reduce_image(img_np):\n",
    "    img_np = np.mean(img_np, axis=2)\n",
    "    img_np = cv2.resize(img_np, (20, 26))\n",
    "    img_np = np.expand_dims(img_np, axis=0)\n",
    "    img_np = img_np /255.0\n",
    "    img_np = np.pad(img_np, ((0,0),(3,3),(6,6)), 'constant', constant_values = 1)\n",
    "    img_np = np.abs(np.subtract(img_np, 1))\n",
    "    img_np = img_np.reshape((1, 32, 32, 1))\n",
    "    return img_np"
   ]
  },
  {
   "cell_type": "code",
   "execution_count": 4,
   "metadata": {},
   "outputs": [],
   "source": [
    "def extract_clock(image, dimens = (500,500)):\n",
    "    #image_number = image[475:490, 448:490, :]\n",
    "    image_number = image[(dimens[0]-25):(dimens[0]-10), (dimens[1]-52):(dimens[1]-10), :]\n",
    "    return image_number"
   ]
  },
  {
   "cell_type": "code",
   "execution_count": 5,
   "metadata": {},
   "outputs": [],
   "source": [
    "def clock2number(image_number, model, certainty = True):\n",
    "    SIZE = 7\n",
    "    \n",
    "    #>0 digits\n",
    "    number = []\n",
    "    for i in range(3):\n",
    "            img_np = image_number[:, (SIZE*i):(SIZE*(i+1)), :]\n",
    "            if (np.sum(img_np) > 240*3):\n",
    "                dig_np = reduce_image(img_np)\n",
    "                digit_svm = model.predict(dig_np)\n",
    "                if certainty:\n",
    "                    if np.sum(digit_svm > 0.1) == 1:\n",
    "                        digit = np.argmax(digit_svm)\n",
    "                    else:\n",
    "                        digit = 'X'\n",
    "                else:\n",
    "                    digit = digit_svm\n",
    "                number.append(str(digit))\n",
    "        \n",
    "    number.append('.')\n",
    "    \n",
    "    #<0 digits; after decimal place\n",
    "    img_np = image_number[:, 25:(25+SIZE), :]\n",
    "    dig_np = reduce_image(img_np)\n",
    "    digit_svm = model.predict(dig_np)\n",
    "    if certainty:\n",
    "        if np.sum(digit_svm > 0.1) == 1:\n",
    "            digit = np.argmax(digit_svm)\n",
    "        else:\n",
    "            digit = 'X'\n",
    "    else:\n",
    "        digit = digit_svm\n",
    "    number.append(str(digit))\n",
    "        \n",
    "    if 'X' in number:\n",
    "        number_np = 0.0\n",
    "    else:\n",
    "        number_np = float(''.join(number))\n",
    "    return number_np"
   ]
  },
  {
   "cell_type": "code",
   "execution_count": 6,
   "metadata": {},
   "outputs": [],
   "source": [
    "def image2number(image_number):\n",
    "    SIZE = 7\n",
    "    \n",
    "    number = []\n",
    "    for i in range(3):\n",
    "            img_np = image_number[:, (SIZE*i):(SIZE*(i+1)), :]\n",
    "            if (np.sum(img_np) > 240*3):\n",
    "                dig_np = reduce_image(img_np)\n",
    "                digit_dl = model.predict_classes(dig_np)\n",
    "                dig_np = dig_np.reshape(1,32*32)\n",
    "                digit_svm = clf.predict(dig_np)\n",
    "                number.append(str(digit_svm[0]))\n",
    "                #if (digit_svm != digit_dl):\n",
    "                #    print (digit_svm, digit_dl)\n",
    "        \n",
    "    number.append('.')\n",
    "    \n",
    "    img_np = image_number[:, (25+SIZE*(4-4)):(25+SIZE*(4-3)), :]\n",
    "    dig_np = reduce_image(img_np)\n",
    "    digit_dl = model.predict_classes(dig_np)\n",
    "    dig_np = dig_np.reshape(1,32*32)\n",
    "    digit_svm = clf.predict(dig_np)\n",
    "    number.append(str(digit_svm[0]))\n",
    "    #if (digit_svm != digit_dl):\n",
    "    #    print (digit_svm, digit_dl)\n",
    "        \n",
    "    number_np = float(''.join(number))\n",
    "    return number_np"
   ]
  },
  {
   "cell_type": "code",
   "execution_count": 7,
   "metadata": {},
   "outputs": [],
   "source": [
    "def confirm_movie(blob):\n",
    "    if '.avi' in blob.name:\n",
    "        return True\n",
    "    else:\n",
    "        return False"
   ]
  },
  {
   "cell_type": "code",
   "execution_count": 8,
   "metadata": {},
   "outputs": [],
   "source": [
    "def process_video_file(video_names, bucket, output_dir, temp_dir = '/tmp/', fault_dir = './Fault/', \\\n",
    "                       height = 500, width = 500, overwrite_model = False, fault_save = True, \\\n",
    "                       digit_model_name = 'Upload/Models/Digits/model_lenet_embryo.h5', digit_weights_name = 'Upload/Models/Digits/model_lenet_embryo_weights.h5'):\n",
    "       \n",
    "    wells_key = {(1,500,500) : ((1,1),(500,500)), (2, 500, 1000): ((1,2),(500,500)), (3,500,1500) : ((1,3),(500,500)), \n",
    "             (4, 500, 500): ((2,2),(250,250)), (5, 500, 750): ((2,3),(250,250)), (6,500,750) : ((2,3),(250,250)), \\\n",
    "             (7, 750, 750): ((3,3),(250,250)), (8,750,750) : ((3,3),(250,250)), (9,750,750) : ((3,3),(250,250)), \\\n",
    "             (10,750,1000) : ((3,4),(250,250)), (11, 750, 1000): ((3,4),(250,250)), (12,750,1000) : ((3,4),(250,250))}\n",
    "    \n",
    "    digit_model = digit_model_name.split('/')[-1]\n",
    "    if (not os.path.isfile(temp_dir + digit_model)) or overwrite_model:\n",
    "        digits_model_gcs = bucket.get_blob(digit_model)\n",
    "        digits_model_gcs.download_to_filename(temp_dir + digit_model)\n",
    "    \n",
    "    digit_weights = digit_weights_name.split('/')[-1]\n",
    "    if (not os.path.isfile(temp_dir + digit_weights)) or overwrite_model:\n",
    "        digits_weights_gcs = bucket.get_blob(digit_weights)\n",
    "        digits_weights_gcs.download_to_filename(temp_dir + digit_weights)\n",
    "        \n",
    "    model = load_model(temp_dir + digit_model)\n",
    "    model.load_weights(temp_dir + digit_weights)\n",
    "    \n",
    "    for video_fullname in video_names:\n",
    "        name = video_fullname.split('/')[-1]\n",
    "        video_gcs = bucket.get_blob(video_fullname)\n",
    "        video_gcs.download_to_filename(temp_dir + name)\n",
    "        video_name = temp_dir + name\n",
    "        \n",
    "        wells = map(int, name.split('wells_')[-1].split('_video.')[0].split('_'))\n",
    "        n_wells = len(wells)\n",
    "        vidcap = cv2.VideoCapture(video_name)\n",
    "        length = int(vidcap.get(cv2.CAP_PROP_FRAME_COUNT))\n",
    "        success,image = vidcap.read()\n",
    "        if success and confirm_movie(video_gcs):\n",
    "            count = 0\n",
    "            length = int(vidcap.get(cv2.CAP_PROP_FRAME_COUNT))\n",
    "            partition, dimensions = wells_key[(len(wells),image.shape[0],image.shape[1])]\n",
    "            print video_name, length, image.shape\n",
    "            print partition, dimensions        \n",
    "        while success:\n",
    "            #cv2 is height x width\n",
    "            #window_size = np.sqrt((image.shape[0]*image.shape[1]) / n_wells)\n",
    "\n",
    "            for i in range(partition[0]): #rows\n",
    "                for j in range(partition[1]): #cols\n",
    "                    if (i*partition[1]+j) < len(wells):\n",
    "                        crop_img = image[(i*dimensions[0]):((i+1)*dimensions[0]), (j*dimensions[1]):((j+1)*dimensions[1])]\n",
    "                        filename = name.split('wells_')[0]\n",
    "                        well = wells[i*partition[1]+j]\n",
    "                        base_dir = \"{}/{}_well{}\".format(output_dir, filename, well)\n",
    "                        if not os.path.exists(base_dir):\n",
    "                            os.makedirs(base_dir)\n",
    "                        image_number = extract_clock(crop_img, dimensions)\n",
    "                        image_number_img = Image.fromarray(image_number)\n",
    "                        image_number = np.asarray(image_number_img)\n",
    "                        number = clock2number(image_number, model)\n",
    "                        if number == 0.0:\n",
    "                            img = Image.fromarray(image_number)\n",
    "                            img.save(\"{}/{}_well{}_f{:03d}_{}h_number.jpg\".format(fault_dir, filename, well, count, number))\n",
    "                        crop_img = cv2.resize(crop_img, (height,width))\n",
    "                        img = Image.fromarray(crop_img)\n",
    "                        img = img.crop((0, 0, 474, 447))\n",
    "                        img = img.resize((height, width))\n",
    "                        if not os.path.exists(\"{}/{}_well{}_f{:03d}_{}h.jpg\".format(base_dir, filename, well, count, number)):\n",
    "                            img.save(\"{}/{}_well{}_f{:03d}_{}h.jpg\".format(base_dir, filename, well, count, number))\n",
    "                        if number == 0.0:\n",
    "                            img.save(\"{}/{}_well{}_f{:03d}_{}h.jpg\".format(fault_dir, filename, well, count, number))\n",
    "                        img.close()\n",
    "\n",
    "            count +=1\n",
    "            success,image = vidcap.read()"
   ]
  },
  {
   "cell_type": "code",
   "execution_count": null,
   "metadata": {},
   "outputs": [],
   "source": []
  },
  {
   "cell_type": "code",
   "execution_count": null,
   "metadata": {},
   "outputs": [],
   "source": []
  },
  {
   "cell_type": "code",
   "execution_count": null,
   "metadata": {},
   "outputs": [],
   "source": []
  },
  {
   "cell_type": "code",
   "execution_count": null,
   "metadata": {},
   "outputs": [],
   "source": [
    "#Input (without features or labels): bucket link, file list \n",
    "\n",
    "#Videos-cloud -> Videos-local -> parsed_frames -> features -> dataset -> experimental dataset \n",
    "\n",
    "#Multi-wells, ocr, frame splitting \n",
    "\n",
    "#Labeling, patient, splits \n",
    " \n",
    "#Rotation, 3-window-shifts "
   ]
  },
  {
   "cell_type": "code",
   "execution_count": null,
   "metadata": {},
   "outputs": [],
   "source": []
  },
  {
   "cell_type": "code",
   "execution_count": null,
   "metadata": {},
   "outputs": [],
   "source": []
  },
  {
   "cell_type": "code",
   "execution_count": null,
   "metadata": {},
   "outputs": [],
   "source": [
    "#mport multiprocessing\n",
    "#mport itertools\n",
    "#pool = multiprocessing.Pool(processes = 2)\n",
    "#process_video_file_args = process_video_file(video_names, bucket = bucket, model_dir = model_dir, data_dir = video_dir, output_dir = './Frames/Ukraine-multi_well_new/')\n",
    "#pool.map(process_video_file_args, itertools.izip(a_args, itertools.repeat(second_arg)))\n",
    "#pool.close()\n",
    "#pool.join()"
   ]
  },
  {
   "cell_type": "code",
   "execution_count": null,
   "metadata": {},
   "outputs": [],
   "source": []
  },
  {
   "cell_type": "code",
   "execution_count": 10,
   "metadata": {},
   "outputs": [
    {
     "name": "stdout",
     "output_type": "stream",
     "text": [
      "/tmp/D2014.07.29_S0607_I162_wells_1_2_video.avi 387 (500, 1000, 3)\n",
      "(1, 2) (500, 500)\n",
      "/tmp/D2014.10.18_S0671_I162_wells_1_2_video.avi 480 (500, 1000, 3)\n",
      "(1, 2) (500, 500)\n",
      "/tmp/D2015.03.07_S0768_I162_wells_1_2_video.avi 381 (500, 1000, 3)\n",
      "(1, 2) (500, 500)\n",
      "/tmp/D2015.03.17_S0775_I162_wells_1_2_video.avi 579 (500, 1000, 3)\n",
      "(1, 2) (500, 500)\n",
      "/tmp/D2015.03.17_S0776_I162_wells_1_2_video.avi 405 (500, 1000, 3)\n",
      "(1, 2) (500, 500)\n",
      "/tmp/D2015.03.28_S0788_I162_wells_1_2_video.avi 376 (500, 1000, 3)\n",
      "(1, 2) (500, 500)\n",
      "/tmp/D2015.09.03_S0892_I162_wells_1_2_video.avi 394 (500, 1000, 3)\n",
      "(1, 2) (500, 500)\n",
      "/tmp/D2016.03.10_S1032_I162_wells_1_2_video.avi 394 (500, 1000, 3)\n",
      "(1, 2) (500, 500)\n",
      "/tmp/D2016.06.11_S1102_I162_wells_1_2_video.avi 377 (500, 1000, 3)\n",
      "(1, 2) (500, 500)\n",
      "/tmp/D2016.09.07_S1169_I162_wells_1_2_video.avi 472 (500, 1000, 3)\n",
      "(1, 2) (500, 500)\n",
      "/tmp/D2016.10.27_S1212_I162_wells_1_2_video.avi 402 (500, 1000, 3)\n",
      "(1, 2) (500, 500)\n",
      "/tmp/D2017.08.11_S01461_I0162_D_wells_1_2_video.avi 469 (500, 1000, 3)\n",
      "(1, 2) (500, 500)\n"
     ]
    }
   ],
   "source": [
    "video_dir = 'Files/Videos/Ukraine/Nadiya_part3/Nadiya_part3/2'\n",
    "\n",
    "video_blobs = bucket.list_blobs(prefix = video_dir)\n",
    "video_names = [blob.name for blob in video_blobs]\n",
    "\n",
    "process_video_file(video_names, bucket = bucket, output_dir = './Frames/Ukraine/')\n",
    "\n",
    "#process_video_file(video_names, bucket, output_dir, temp_dir = '/tmp/', fault_dir = './Fault/', \\\n",
    "#                       height = 500, width = 500, overwrite_model = False, fault_save = True, \\\n",
    "#                       digit_model_name = 'Upload/Models/Digits/model_lenet_embryo.h5', digit_weights_name = 'Upload/Models/Digits/model_lenet_embryo_weights.h5')"
   ]
  },
  {
   "cell_type": "code",
   "execution_count": null,
   "metadata": {},
   "outputs": [],
   "source": []
  }
 ],
 "metadata": {
  "kernelspec": {
   "display_name": "Python 2",
   "language": "python",
   "name": "python2"
  },
  "language_info": {
   "codemirror_mode": {
    "name": "ipython",
    "version": 2
   },
   "file_extension": ".py",
   "mimetype": "text/x-python",
   "name": "python",
   "nbconvert_exporter": "python",
   "pygments_lexer": "ipython2",
   "version": "2.7.12"
  }
 },
 "nbformat": 4,
 "nbformat_minor": 2
}
